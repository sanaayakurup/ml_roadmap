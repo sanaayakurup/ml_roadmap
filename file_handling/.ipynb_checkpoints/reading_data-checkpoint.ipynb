{
 "cells": [
  {
   "cell_type": "code",
   "execution_count": 4,
   "id": "197fe58b",
   "metadata": {},
   "outputs": [
    {
     "data": {
      "text/plain": [
       "['.ipynb_checkpoints', 'test.txt', 'Untitled.ipynb']"
      ]
     },
     "execution_count": 4,
     "metadata": {},
     "output_type": "execute_result"
    }
   ],
   "source": [
    "#https://www.youtube.com/watch?v=ixEeeNjjOJ0\n",
    "import os\n",
    "os.listdir()\n"
   ]
  },
  {
   "cell_type": "code",
   "execution_count": 17,
   "id": "a802fda9",
   "metadata": {},
   "outputs": [],
   "source": [
    "#read mode\n",
    "f = open(\"test.txt\", \"r\")\n",
    "with open('test.txt','r') as file:\n",
    "    a=file.read()\n"
   ]
  },
  {
   "cell_type": "code",
   "execution_count": 19,
   "id": "31a656a5",
   "metadata": {},
   "outputs": [],
   "source": [
    "a\n",
    "file.close()"
   ]
  },
  {
   "cell_type": "code",
   "execution_count": 22,
   "id": "3cac55fc",
   "metadata": {},
   "outputs": [],
   "source": [
    "with open('test.txt','w+') as f:\n",
    "    f.write('i am hunter')"
   ]
  },
  {
   "cell_type": "code",
   "execution_count": 26,
   "id": "38e10655",
   "metadata": {},
   "outputs": [],
   "source": [
    "#modes for writing \n",
    "#w overwrites everything\n",
    "#a apeends data \n"
   ]
  },
  {
   "cell_type": "code",
   "execution_count": 27,
   "id": "48bef584",
   "metadata": {},
   "outputs": [
    {
     "data": {
      "text/plain": [
       "'i am hunter'"
      ]
     },
     "execution_count": 27,
     "metadata": {},
     "output_type": "execute_result"
    }
   ],
   "source": [
    "#reading a file \n",
    "with open('test.txt','r') as file:\n",
    "    a=file.read()\n",
    "a"
   ]
  },
  {
   "cell_type": "code",
   "execution_count": 28,
   "id": "4ed57a39",
   "metadata": {},
   "outputs": [],
   "source": [
    "#overritng to a file \n",
    "with open('test.txt','w') as file:\n",
    "    file.write('oops overwritten')"
   ]
  },
  {
   "cell_type": "code",
   "execution_count": 30,
   "id": "196ffc9a",
   "metadata": {},
   "outputs": [],
   "source": [
    "##appending to a file\n",
    "with open('test.txt', 'a') as file:\n",
    "    file.write('oops i didnt do it gagain')"
   ]
  },
  {
   "cell_type": "code",
   "execution_count": 34,
   "id": "791e2ce0",
   "metadata": {},
   "outputs": [],
   "source": [
    "##creating a new file \n",
    "with open('new_file_1.txt','x') as file:\n",
    "    file.write('hi')"
   ]
  }
 ],
 "metadata": {
  "kernelspec": {
   "display_name": "Python 3 (ipykernel)",
   "language": "python",
   "name": "python3"
  },
  "language_info": {
   "codemirror_mode": {
    "name": "ipython",
    "version": 3
   },
   "file_extension": ".py",
   "mimetype": "text/x-python",
   "name": "python",
   "nbconvert_exporter": "python",
   "pygments_lexer": "ipython3",
   "version": "3.9.13"
  }
 },
 "nbformat": 4,
 "nbformat_minor": 5
}
