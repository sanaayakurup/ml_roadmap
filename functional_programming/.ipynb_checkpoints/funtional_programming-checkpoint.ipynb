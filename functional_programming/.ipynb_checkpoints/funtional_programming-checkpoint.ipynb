{
 "cells": [
  {
   "cell_type": "code",
   "execution_count": null,
   "id": "4141979e",
   "metadata": {},
   "outputs": [],
   "source": [
    "##lambda  https://www.youtube.com/watch?v=ww2uPkwSjjY\n",
    "#lmbda input::function \n",
    "\"\"\"\n",
    "lambda vs normal function\n",
    "1.lambda can be only written in one libne\n",
    "2.not used for code resusability \n",
    "3.\n",
    "\"\"\""
   ]
  },
  {
   "cell_type": "code",
   "execution_count": 38,
   "id": "2c6d1fb6",
   "metadata": {},
   "outputs": [],
   "source": [
    "#get odd no sum, even nos sum, divisible by three sum \n",
    "l=[1,44,55,74,65,44,99,100]\n",
    "\n",
    "def ret_sums(l):\n",
    "    even=0\n",
    "    odd=0\n",
    "    three=0\n",
    "    for i in l:\n",
    "        if i%2==0:\n",
    "            even=even+i\n",
    "        if i%2==1:\n",
    "            odd=odd+i\n",
    "        if i%3==0:\n",
    "            three=three+i\n",
    "    return(even,odd,three)\n"
   ]
  },
  {
   "cell_type": "code",
   "execution_count": 39,
   "id": "7e52f003",
   "metadata": {
    "scrolled": true
   },
   "outputs": [
    {
     "data": {
      "text/plain": [
       "(262, 220, 99)"
      ]
     },
     "execution_count": 39,
     "metadata": {},
     "output_type": "execute_result"
    }
   ],
   "source": [
    "ret_sums(l)"
   ]
  },
  {
   "cell_type": "code",
   "execution_count": 46,
   "id": "636aab31",
   "metadata": {},
   "outputs": [
    {
     "data": {
      "text/plain": [
       "[1, 1936, 3025, 5476, 4225, 1936, 9801, 10000]"
      ]
     },
     "execution_count": 46,
     "metadata": {},
     "output_type": "execute_result"
    }
   ],
   "source": [
    "sqrtts=lambda x:x**2\n",
    "list(map(sqrtts,l))"
   ]
  },
  {
   "cell_type": "code",
   "execution_count": 48,
   "id": "e3396639",
   "metadata": {},
   "outputs": [
    {
     "data": {
      "text/plain": [
       "[44, 74, 44, 100]"
      ]
     },
     "execution_count": 48,
     "metadata": {},
     "output_type": "execute_result"
    }
   ],
   "source": [
    "list(filter(lambda x:x%2==0,l))"
   ]
  },
  {
   "cell_type": "code",
   "execution_count": 54,
   "id": "11424ea3",
   "metadata": {},
   "outputs": [
    {
     "data": {
      "text/plain": [
       "482"
      ]
     },
     "execution_count": 54,
     "metadata": {},
     "output_type": "execute_result"
    }
   ],
   "source": [
    "#reduce \n",
    "import functools\n",
    "functools.reduce(lambda x,y:x+y,l)"
   ]
  },
  {
   "cell_type": "code",
   "execution_count": 55,
   "id": "17d32b6d",
   "metadata": {},
   "outputs": [
    {
     "data": {
      "text/plain": [
       "1"
      ]
     },
     "execution_count": 55,
     "metadata": {},
     "output_type": "execute_result"
    }
   ],
   "source": [
    "functools.reduce(lambda x,y:x if x<y else y,l) #gives min of the list "
   ]
  },
  {
   "cell_type": "code",
   "execution_count": 56,
   "id": "2283e112",
   "metadata": {},
   "outputs": [
    {
     "data": {
      "text/plain": [
       "100"
      ]
     },
     "execution_count": 56,
     "metadata": {},
     "output_type": "execute_result"
    }
   ],
   "source": [
    "functools.reduce(lambda x,y:x if x>y else y, l) #gives max of the list "
   ]
  },
  {
   "cell_type": "code",
   "execution_count": 59,
   "id": "6ce0ef25",
   "metadata": {},
   "outputs": [],
   "source": [
    "#list comprehension \n",
    "a=[x for x in l if x%2==0]"
   ]
  },
  {
   "cell_type": "code",
   "execution_count": 60,
   "id": "ed19c9ff",
   "metadata": {},
   "outputs": [
    {
     "data": {
      "text/plain": [
       "[44, 74, 44, 100]"
      ]
     },
     "execution_count": 60,
     "metadata": {},
     "output_type": "execute_result"
    }
   ],
   "source": [
    "a"
   ]
  }
 ],
 "metadata": {
  "kernelspec": {
   "display_name": "Python 3 (ipykernel)",
   "language": "python",
   "name": "python3"
  },
  "language_info": {
   "codemirror_mode": {
    "name": "ipython",
    "version": 3
   },
   "file_extension": ".py",
   "mimetype": "text/x-python",
   "name": "python",
   "nbconvert_exporter": "python",
   "pygments_lexer": "ipython3",
   "version": "3.9.13"
  }
 },
 "nbformat": 4,
 "nbformat_minor": 5
}
