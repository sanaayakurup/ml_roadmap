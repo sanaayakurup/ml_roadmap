{
 "cells": [
  {
   "cell_type": "code",
   "execution_count": null,
   "id": "987471ff",
   "metadata": {},
   "outputs": [],
   "source": [
    "##lambda \n",
    "#lmbda input::function \n",
    "\"\"\"\n",
    "lambda vs normal function\n",
    "1.lambda can be only written in one libne\n",
    "2.not used for code resusability \n",
    "3.\n",
    "\"\"\""
   ]
  },
  {
   "cell_type": "code",
   "execution_count": 38,
   "id": "fb9c4e01",
   "metadata": {},
   "outputs": [],
   "source": [
    "#get odd no sum, even nos sum, divisible by three sum \n",
    "l=[1,44,55,74,65,44,99,100]\n",
    "\n",
    "def ret_sums(l):\n",
    "    even=0\n",
    "    odd=0\n",
    "    three=0\n",
    "    for i in l:\n",
    "        if i%2==0:\n",
    "            even=even+i\n",
    "        if i%2==1:\n",
    "            odd=odd+i\n",
    "        if i%3==0:\n",
    "            three=three+i\n",
    "    return(even,odd,three)\n"
   ]
  },
  {
   "cell_type": "code",
   "execution_count": 39,
   "id": "67acf613",
   "metadata": {
    "scrolled": true
   },
   "outputs": [
    {
     "data": {
      "text/plain": [
       "(262, 220, 99)"
      ]
     },
     "execution_count": 39,
     "metadata": {},
     "output_type": "execute_result"
    }
   ],
   "source": [
    "ret_sums(l)"
   ]
  }
 ],
 "metadata": {
  "kernelspec": {
   "display_name": "Python 3 (ipykernel)",
   "language": "python",
   "name": "python3"
  },
  "language_info": {
   "codemirror_mode": {
    "name": "ipython",
    "version": 3
   },
   "file_extension": ".py",
   "mimetype": "text/x-python",
   "name": "python",
   "nbconvert_exporter": "python",
   "pygments_lexer": "ipython3",
   "version": "3.9.13"
  }
 },
 "nbformat": 4,
 "nbformat_minor": 5
}
