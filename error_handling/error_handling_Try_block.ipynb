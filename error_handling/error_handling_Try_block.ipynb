{
 "cells": [
  {
   "cell_type": "code",
   "execution_count": 1,
   "id": "3d45dcd1",
   "metadata": {},
   "outputs": [
    {
     "ename": "FileNotFoundError",
     "evalue": "[Errno 2] No such file or directory: 'testfile.txt'",
     "output_type": "error",
     "traceback": [
      "\u001b[1;31m---------------------------------------------------------------------------\u001b[0m",
      "\u001b[1;31mFileNotFoundError\u001b[0m                         Traceback (most recent call last)",
      "\u001b[1;32m~\\AppData\\Local\\Temp\\ipykernel_15284\\2865062782.py\u001b[0m in \u001b[0;36m<module>\u001b[1;34m\u001b[0m\n\u001b[1;32m----> 1\u001b[1;33m \u001b[0mf\u001b[0m\u001b[1;33m=\u001b[0m\u001b[0mopen\u001b[0m\u001b[1;33m(\u001b[0m\u001b[1;34m'testfile.txt'\u001b[0m\u001b[1;33m,\u001b[0m\u001b[1;34m'r'\u001b[0m\u001b[1;33m)\u001b[0m\u001b[1;33m\u001b[0m\u001b[1;33m\u001b[0m\u001b[0m\n\u001b[0m",
      "\u001b[1;31mFileNotFoundError\u001b[0m: [Errno 2] No such file or directory: 'testfile.txt'"
     ]
    }
   ],
   "source": [
    "#https://www.youtube.com/watch?v=NIWwJbo-9_8\n",
    "f=open('testfile.txt','r') "
   ]
  },
  {
   "cell_type": "code",
   "execution_count": null,
   "id": "14e39cee",
   "metadata": {},
   "outputs": [],
   "source": [
    "try:\n",
    "    pass\n",
    "except:\n",
    "    pass\n",
    "else:\n",
    "    pass\n",
    "finally:\n",
    "    pass"
   ]
  },
  {
   "cell_type": "code",
   "execution_count": 5,
   "id": "8756b131",
   "metadata": {},
   "outputs": [
    {
     "name": "stdout",
     "output_type": "stream",
     "text": [
      "[Errno 2] No such file or directory: 'hello.txt'\n",
      "this will print out regardless of whether the code is rgiht or wrong\n"
     ]
    }
   ],
   "source": [
    "try:\n",
    "    f=open('hello.txt','r')\n",
    "except Exception as e:\n",
    "    print(e)\n",
    "finally:\n",
    "    print('this will print out regardless of whether the code is rgiht or wrong')"
   ]
  },
  {
   "cell_type": "code",
   "execution_count": 6,
   "id": "19650f37",
   "metadata": {},
   "outputs": [
    {
     "name": "stdout",
     "output_type": "stream",
     "text": [
      "division by zero\n",
      "this will print regardless\n"
     ]
    }
   ],
   "source": [
    "try:\n",
    "    x=2/0\n",
    "except Exception as e:\n",
    "    print(e)\n",
    "else:\n",
    "    print('this prints if try is sucessfully')\n",
    "finally:\n",
    "    print('this will print regardless')"
   ]
  },
  {
   "cell_type": "code",
   "execution_count": 8,
   "id": "3564b3ad",
   "metadata": {},
   "outputs": [
    {
     "name": "stdout",
     "output_type": "stream",
     "text": [
      "0.6666666666666666\n",
      "this prints if try is sucessfully\n",
      "this will print regardless\n"
     ]
    }
   ],
   "source": [
    "try:\n",
    "    x=2/3\n",
    "    print(x)\n",
    "except Exception as e:\n",
    "    print(e)\n",
    "else:\n",
    "    print('this prints if try is sucessfully')\n",
    "finally:\n",
    "    print('this will print regardless')"
   ]
  }
 ],
 "metadata": {
  "kernelspec": {
   "display_name": "Python 3 (ipykernel)",
   "language": "python",
   "name": "python3"
  },
  "language_info": {
   "codemirror_mode": {
    "name": "ipython",
    "version": 3
   },
   "file_extension": ".py",
   "mimetype": "text/x-python",
   "name": "python",
   "nbconvert_exporter": "python",
   "pygments_lexer": "ipython3",
   "version": "3.9.13"
  }
 },
 "nbformat": 4,
 "nbformat_minor": 5
}
