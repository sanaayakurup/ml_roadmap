{
 "cells": [
  {
   "cell_type": "code",
   "execution_count": null,
   "id": "c73e93d7",
   "metadata": {},
   "outputs": [],
   "source": [
    "#lists https://www.youtube.com/watch?v=l0rgITwCXKg&list=PLKnIA16_Rmvb1RYR-iTA_hzckhdONtSW4&index=24\n",
    "#can store multiple types of data \n",
    "\"\"\"list vs array- \n",
    "array will be of one data type, unlike list \n",
    "array are much faster, as storage is one after the other \n",
    "lists are more programmer freindly \n",
    "\"\"\""
   ]
  },
  {
   "cell_type": "code",
   "execution_count": 2,
   "id": "eb0f2759",
   "metadata": {},
   "outputs": [
    {
     "data": {
      "text/plain": [
       "[1, 2, 3]"
      ]
     },
     "execution_count": 2,
     "metadata": {},
     "output_type": "execute_result"
    }
   ],
   "source": [
    "list([1,2,3])"
   ]
  },
  {
   "cell_type": "code",
   "execution_count": 4,
   "id": "aec6f205",
   "metadata": {},
   "outputs": [
    {
     "data": {
      "text/plain": [
       "[1, 2, 3, 'hi']"
      ]
     },
     "execution_count": 4,
     "metadata": {},
     "output_type": "execute_result"
    }
   ],
   "source": [
    "#ADD  #APEND #EXTEND #INSERT \n",
    "my_list=[1,2,3]\n",
    "my_list.append('hi')\n",
    "my_list"
   ]
  },
  {
   "cell_type": "code",
   "execution_count": 6,
   "id": "499c1f7d",
   "metadata": {},
   "outputs": [
    {
     "data": {
      "text/plain": [
       "[1, 2, 3, 'hi', 3, 4, 5, 3, 4, 5]"
      ]
     },
     "execution_count": 6,
     "metadata": {},
     "output_type": "execute_result"
    }
   ],
   "source": [
    "#extend adds mul;tiple \n",
    "my_list.extend([3,4,5])\n",
    "my_list"
   ]
  },
  {
   "cell_type": "code",
   "execution_count": 7,
   "id": "f83631f9",
   "metadata": {},
   "outputs": [
    {
     "data": {
      "text/plain": [
       "[1, 2, 3, 'hi', 3, 4, 5, 3, 4, 5, [1, 2]]"
      ]
     },
     "execution_count": 7,
     "metadata": {},
     "output_type": "execute_result"
    }
   ],
   "source": [
    "my_list.append([1,2]) #adds as a single element \n",
    "my_list"
   ]
  },
  {
   "cell_type": "code",
   "execution_count": 9,
   "id": "56bfe56d",
   "metadata": {},
   "outputs": [
    {
     "data": {
      "text/plain": [
       "[1, 2, 3, 'hi', 3, 4, 5, 3, 4, 5, [1, 2], 'g', 'o', 'a']"
      ]
     },
     "execution_count": 9,
     "metadata": {},
     "output_type": "execute_result"
    }
   ],
   "source": [
    "my_list.extend('goa') #adds multiple elements even if one is given \n",
    "my_list"
   ]
  },
  {
   "cell_type": "code",
   "execution_count": 10,
   "id": "d334fcae",
   "metadata": {},
   "outputs": [],
   "source": [
    "#add something at a desired position-insert \n",
    "my_list.insert(1,'hello')\n",
    "my_list"
   ]
  },
  {
   "cell_type": "code",
   "execution_count": 12,
   "id": "c85220fb",
   "metadata": {},
   "outputs": [],
   "source": [
    "#how to delete stiuff in a list \n",
    "del my_list #full list removed "
   ]
  },
  {
   "cell_type": "code",
   "execution_count": 21,
   "id": "216610df",
   "metadata": {},
   "outputs": [
    {
     "data": {
      "text/plain": [
       "[2, 3]"
      ]
     },
     "execution_count": 21,
     "metadata": {},
     "output_type": "execute_result"
    }
   ],
   "source": [
    "my_list=[1,2,3]\n",
    "del my_list[0]\n",
    "my_list"
   ]
  },
  {
   "cell_type": "code",
   "execution_count": 22,
   "id": "44896534",
   "metadata": {},
   "outputs": [
    {
     "data": {
      "text/plain": [
       "[3]"
      ]
     },
     "execution_count": 22,
     "metadata": {},
     "output_type": "execute_result"
    }
   ],
   "source": [
    "my_list.remove(2)\n",
    "my_list"
   ]
  },
  {
   "cell_type": "code",
   "execution_count": 23,
   "id": "87508670",
   "metadata": {},
   "outputs": [
    {
     "data": {
      "text/plain": [
       "[]"
      ]
     },
     "execution_count": 23,
     "metadata": {},
     "output_type": "execute_result"
    }
   ],
   "source": [
    "my_list.pop()\n",
    "my_list"
   ]
  },
  {
   "cell_type": "code",
   "execution_count": 26,
   "id": "0b833181",
   "metadata": {},
   "outputs": [
    {
     "data": {
      "text/plain": [
       "2"
      ]
     },
     "execution_count": 26,
     "metadata": {},
     "output_type": "execute_result"
    }
   ],
   "source": [
    "my_list.append(2)\n",
    "my_list.pop() #removes the last element of the list "
   ]
  },
  {
   "cell_type": "code",
   "execution_count": 28,
   "id": "007a4d2f",
   "metadata": {},
   "outputs": [],
   "source": [
    "my_list.extend([3,4,6,5])\n",
    "my_list.sort()"
   ]
  },
  {
   "cell_type": "code",
   "execution_count": 30,
   "id": "d92d6fe6",
   "metadata": {},
   "outputs": [
    {
     "data": {
      "text/plain": [
       "[1, 2, 3, 4, 5, 6]"
      ]
     },
     "execution_count": 30,
     "metadata": {},
     "output_type": "execute_result"
    }
   ],
   "source": [
    "my_list"
   ]
  },
  {
   "cell_type": "code",
   "execution_count": 34,
   "id": "5d0d8db2",
   "metadata": {},
   "outputs": [],
   "source": [
    "new='hello how are you'\n",
    "new=new.split(\" \")"
   ]
  },
  {
   "cell_type": "code",
   "execution_count": 41,
   "id": "10f03434",
   "metadata": {},
   "outputs": [],
   "source": [
    "a=[]\n",
    "for i in new:\n",
    "    i=i.capitalize()\n",
    "    a.append(i)"
   ]
  },
  {
   "cell_type": "code",
   "execution_count": 42,
   "id": "ce80127b",
   "metadata": {},
   "outputs": [
    {
     "data": {
      "text/plain": [
       "['Hello', 'How', 'Are', 'You']"
      ]
     },
     "execution_count": 42,
     "metadata": {},
     "output_type": "execute_result"
    }
   ],
   "source": [
    "a"
   ]
  },
  {
   "cell_type": "code",
   "execution_count": 44,
   "id": "652533db",
   "metadata": {},
   "outputs": [
    {
     "data": {
      "text/plain": [
       "'sanaaya'"
      ]
     },
     "execution_count": 44,
     "metadata": {},
     "output_type": "execute_result"
    }
   ],
   "source": [
    "a='sanaaya@gmail.com'\n",
    "a.split(\"@\")[0]"
   ]
  },
  {
   "cell_type": "code",
   "execution_count": 52,
   "id": "aba30635",
   "metadata": {},
   "outputs": [
    {
     "data": {
      "text/plain": [
       "[1, 2, 3, 4]"
      ]
     },
     "execution_count": 52,
     "metadata": {},
     "output_type": "execute_result"
    }
   ],
   "source": [
    "#remove duplicates from \n",
    "l=[1,2,2,3,3,4]\n",
    "l1=[]\n",
    "for i in l:\n",
    "    if i not in l1:\n",
    "        l1.append(i)\n",
    "l1"
   ]
  }
 ],
 "metadata": {
  "kernelspec": {
   "display_name": "Python 3 (ipykernel)",
   "language": "python",
   "name": "python3"
  },
  "language_info": {
   "codemirror_mode": {
    "name": "ipython",
    "version": 3
   },
   "file_extension": ".py",
   "mimetype": "text/x-python",
   "name": "python",
   "nbconvert_exporter": "python",
   "pygments_lexer": "ipython3",
   "version": "3.9.13"
  }
 },
 "nbformat": 4,
 "nbformat_minor": 5
}
