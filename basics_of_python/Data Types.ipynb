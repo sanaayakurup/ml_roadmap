{
 "cells": [
  {
   "cell_type": "code",
   "execution_count": 2,
   "id": "3ea6a9ca",
   "metadata": {},
   "outputs": [],
   "source": [
    "##Data Types https://www.youtube.com/watch?v=NQ0JI5IKggI&list=PLKnIA16_Rmvb1RYR-iTA_hzckhdONtSW4&index=2"
   ]
  },
  {
   "cell_type": "code",
   "execution_count": null,
   "id": "38f3dfef",
   "metadata": {},
   "outputs": [],
   "source": [
    "Basic-int,float, string, bool\n",
    "Container-list, tuples,sets,dicts\n",
    "user_defined type-clases, objects (in oops)"
   ]
  },
  {
   "cell_type": "code",
   "execution_count": 3,
   "id": "c1021c97",
   "metadata": {},
   "outputs": [
    {
     "data": {
      "text/plain": [
       "1"
      ]
     },
     "execution_count": 3,
     "metadata": {},
     "output_type": "execute_result"
    }
   ],
   "source": [
    "#integers, any number without decimal points \n",
    "int(1.1)"
   ]
  },
  {
   "cell_type": "code",
   "execution_count": 4,
   "id": "fce501da",
   "metadata": {},
   "outputs": [
    {
     "data": {
      "text/plain": [
       "1.0"
      ]
     },
     "execution_count": 4,
     "metadata": {},
     "output_type": "execute_result"
    }
   ],
   "source": [
    "#float-handles decimals\n",
    "float(1)"
   ]
  },
  {
   "cell_type": "code",
   "execution_count": 5,
   "id": "1b78b4d7",
   "metadata": {},
   "outputs": [
    {
     "data": {
      "text/plain": [
       "1.1"
      ]
     },
     "execution_count": 5,
     "metadata": {},
     "output_type": "execute_result"
    }
   ],
   "source": [
    "float(1.1)"
   ]
  },
  {
   "cell_type": "code",
   "execution_count": 8,
   "id": "dcad6d00",
   "metadata": {},
   "outputs": [
    {
     "data": {
      "text/plain": [
       "'h'"
      ]
     },
     "execution_count": 8,
     "metadata": {},
     "output_type": "execute_result"
    }
   ],
   "source": [
    "#string-characters \n",
    "str(1)\n",
    "str('h')"
   ]
  },
  {
   "cell_type": "code",
   "execution_count": 13,
   "id": "95ce4f19",
   "metadata": {},
   "outputs": [
    {
     "data": {
      "text/plain": [
       "bool"
      ]
     },
     "execution_count": 13,
     "metadata": {},
     "output_type": "execute_result"
    }
   ],
   "source": [
    "##boolean\n",
    "True\n",
    "False\n",
    "type(True)"
   ]
  },
  {
   "cell_type": "code",
   "execution_count": 18,
   "id": "67b29238",
   "metadata": {},
   "outputs": [],
   "source": [
    "##Container type variables- they store different types of data types within a single variable \n",
    "list=[1,2,3,'ar']\n",
    "tupe=(1,2,3) \n",
    "sets={1,2,3}\n",
    "dict={'a':'hi', 'b':'bye'}"
   ]
  },
  {
   "cell_type": "code",
   "execution_count": 23,
   "id": "78b163eb",
   "metadata": {},
   "outputs": [
    {
     "name": "stdout",
     "output_type": "stream",
     "text": [
      "Pls tell me your fav no2\n"
     ]
    }
   ],
   "source": [
    "a=input('Pls tell me your fav no')\n"
   ]
  },
  {
   "cell_type": "code",
   "execution_count": 24,
   "id": "9fa985da",
   "metadata": {},
   "outputs": [
    {
     "data": {
      "text/plain": [
       "'2'"
      ]
     },
     "execution_count": 24,
     "metadata": {},
     "output_type": "execute_result"
    }
   ],
   "source": [
    "a"
   ]
  },
  {
   "cell_type": "code",
   "execution_count": 26,
   "id": "feb49237",
   "metadata": {},
   "outputs": [
    {
     "name": "stdout",
     "output_type": "stream",
     "text": [
      "enter nummer eins1\n",
      "enter nummer zwei2\n",
      "3\n"
     ]
    }
   ],
   "source": [
    "#write a program to take 2 nos from a user and add them \n",
    "#INPUT TAKES user input and stores as string as default, thus we need to conv to int or flloat for numbers \n",
    "a=int(input('enter nummer eins'))\n",
    "b=int(input('enter nummer zwei'))\n",
    "print(a+b)"
   ]
  },
  {
   "cell_type": "code",
   "execution_count": 28,
   "id": "0eb5ec30",
   "metadata": {},
   "outputs": [
    {
     "data": {
      "text/plain": [
       "bool"
      ]
     },
     "execution_count": 28,
     "metadata": {},
     "output_type": "execute_result"
    }
   ],
   "source": [
    "type(6.6)\n",
    "type(True)"
   ]
  },
  {
   "cell_type": "code",
   "execution_count": null,
   "id": "552f858e",
   "metadata": {},
   "outputs": [],
   "source": []
  }
 ],
 "metadata": {
  "kernelspec": {
   "display_name": "Python 3 (ipykernel)",
   "language": "python",
   "name": "python3"
  },
  "language_info": {
   "codemirror_mode": {
    "name": "ipython",
    "version": 3
   },
   "file_extension": ".py",
   "mimetype": "text/x-python",
   "name": "python",
   "nbconvert_exporter": "python",
   "pygments_lexer": "ipython3",
   "version": "3.9.13"
  }
 },
 "nbformat": 4,
 "nbformat_minor": 5
}
