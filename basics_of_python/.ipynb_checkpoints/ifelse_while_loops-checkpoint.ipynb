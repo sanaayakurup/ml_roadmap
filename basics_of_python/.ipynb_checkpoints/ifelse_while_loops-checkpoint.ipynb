{
 "cells": [
  {
   "cell_type": "code",
   "execution_count": 1,
   "id": "095763fb",
   "metadata": {},
   "outputs": [],
   "source": [
    "#if else \n",
    "actual_email='campusx@gmail.com'\n",
    "actual_pwd=1234"
   ]
  },
  {
   "cell_type": "code",
   "execution_count": 2,
   "id": "5935583e",
   "metadata": {},
   "outputs": [
    {
     "name": "stdout",
     "output_type": "stream",
     "text": [
      "put email xyz\n",
      "put pwd 123\n"
     ]
    }
   ],
   "source": [
    "entered_email=input('put email ')\n",
    "entered_pwd=int(input('put pwd '))\n"
   ]
  },
  {
   "cell_type": "code",
   "execution_count": 4,
   "id": "87c0ed11",
   "metadata": {},
   "outputs": [
    {
     "name": "stdout",
     "output_type": "stream",
     "text": [
      "wrong\n"
     ]
    }
   ],
   "source": [
    "if (entered_email==actual_email) and (entered_pwd==actual_email):\n",
    "    print('user has correct creds')\n",
    "else:\n",
    "    print('wrong')"
   ]
  },
  {
   "cell_type": "code",
   "execution_count": null,
   "id": "f1f67918",
   "metadata": {},
   "outputs": [],
   "source": [
    "##GUESSING GAME \n",
    "import numpy as np"
   ]
  },
  {
   "cell_type": "code",
   "execution_count": null,
   "id": "e2d463aa",
   "metadata": {},
   "outputs": [],
   "source": [
    "np.random()"
   ]
  }
 ],
 "metadata": {
  "kernelspec": {
   "display_name": "Python 3 (ipykernel)",
   "language": "python",
   "name": "python3"
  },
  "language_info": {
   "codemirror_mode": {
    "name": "ipython",
    "version": 3
   },
   "file_extension": ".py",
   "mimetype": "text/x-python",
   "name": "python",
   "nbconvert_exporter": "python",
   "pygments_lexer": "ipython3",
   "version": "3.9.13"
  }
 },
 "nbformat": 4,
 "nbformat_minor": 5
}
