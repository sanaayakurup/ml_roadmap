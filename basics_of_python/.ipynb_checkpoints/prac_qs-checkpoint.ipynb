{
 "cells": [
  {
   "cell_type": "code",
   "execution_count": 15,
   "id": "9d66aa15",
   "metadata": {},
   "outputs": [
    {
     "data": {
      "text/plain": [
       "3"
      ]
     },
     "execution_count": 15,
     "metadata": {},
     "output_type": "execute_result"
    }
   ],
   "source": [
    "#practice problems https://docs.google.com/document/d/1E_xCNijOWZ4Bm7r7DVj-1OA-oUopEFmv4tRm0YNuFWQ/edit\n",
    "#Write a code to find the minimum among three given numbers.\n",
    "l=[1,2,3]\n",
    "a=0\n",
    "for i in l:\n",
    "    if i>a:\n",
    "        a=i\n",
    "a"
   ]
  },
  {
   "cell_type": "code",
   "execution_count": 42,
   "id": "e591ddd4",
   "metadata": {},
   "outputs": [
    {
     "name": "stdout",
     "output_type": "stream",
     "text": [
      "enter a no33\n",
      "it is a palindrome\n"
     ]
    }
   ],
   "source": [
    "#Write a code to check whether a given number is a palindrome.\n",
    "a=input('enter a no')\n",
    "if a==a[::-1]:\n",
    "    print('it is a palindrome')\n",
    "else:\n",
    "    print('no')"
   ]
  },
  {
   "cell_type": "code",
   "execution_count": null,
   "id": "d35989ff",
   "metadata": {},
   "outputs": [],
   "source": [
    "#### Write a code to find the sum of numbers divisible by 4.\n",
    "#The code must allow the user to accept a number and add it to the sum if it is divisible by 4. \n",
    "#It should continue accepting numbers as long as the user wants to provide an input and should display the final sum.\n",
    "\n",
    "def div_by_4():\n",
    "    div=0\n",
    "    i=0\n",
    "    while i<10:\n",
    "        var=int(input('enter a number'))\n",
    "        if var%4==0:\n",
    "            div=div+var\n",
    "        else:\n",
    "            print('not divisible bty 4')\n",
    "        i+=1\n",
    "    return div        \n",
    "        \n",
    "div_by_4()        "
   ]
  },
  {
   "cell_type": "code",
   "execution_count": null,
   "id": "70125e5e",
   "metadata": {},
   "outputs": [],
   "source": [
    "A three digit number is said to be an “Armstrong number”\n",
    "if the sum of the third power of its individual digits is equal to the number itself.\n",
    "Write a program to check whether a number is armstrong or not. "
   ]
  },
  {
   "cell_type": "code",
   "execution_count": 76,
   "id": "ad41f491",
   "metadata": {},
   "outputs": [
    {
     "name": "stdout",
     "output_type": "stream",
     "text": [
      "enter a 3 dig number371\n",
      "371\n",
      "it is an armstrong\n"
     ]
    }
   ],
   "source": [
    "a=input('enter a 3 dig number')\n",
    "cubed=0\n",
    "for i in a:\n",
    "    i=int(i)\n",
    "    cubed_i=i**3\n",
    "    cubed=cubed_i+cubed\n",
    "print(cubed)    \n",
    "    \n",
    "if int(a)==cubed:\n",
    "    print('it is an armstrong')\n",
    "else:\n",
    "    print('nope')\n",
    "    \n",
    "    "
   ]
  },
  {
   "cell_type": "code",
   "execution_count": 85,
   "id": "14ec3cac",
   "metadata": {},
   "outputs": [],
   "source": [
    "#Write a Python program to generate the next 15 leap years starting from a given year. Populate the leap years into a list and display the list.\n",
    "def leap_year(year):\n",
    "    l=[]\n",
    "    if year%4==0:\n",
    "        for i in range(0,15):\n",
    "            l.append(year)\n",
    "            year=year+4        \n",
    "    return l        \n"
   ]
  },
  {
   "cell_type": "code",
   "execution_count": 86,
   "id": "ce9ba81d",
   "metadata": {},
   "outputs": [
    {
     "data": {
      "text/plain": [
       "[2016,\n",
       " 2020,\n",
       " 2024,\n",
       " 2028,\n",
       " 2032,\n",
       " 2036,\n",
       " 2040,\n",
       " 2044,\n",
       " 2048,\n",
       " 2052,\n",
       " 2056,\n",
       " 2060,\n",
       " 2064,\n",
       " 2068,\n",
       " 2072]"
      ]
     },
     "execution_count": 86,
     "metadata": {},
     "output_type": "execute_result"
    }
   ],
   "source": [
    "leap_year(2016)"
   ]
  },
  {
   "cell_type": "code",
   "execution_count": 90,
   "id": "95df24a4",
   "metadata": {},
   "outputs": [
    {
     "name": "stdout",
     "output_type": "stream",
     "text": [
      "mo\n"
     ]
    }
   ],
   "source": [
    "#Write a python function to check whether three given numbers can form the sides of a triangle\n",
    "x=0\n",
    "y=1\n",
    "z=2\n",
    "if (x+y>z)and (x+z>y)and (y+z>x):\n",
    "    print('triangle')\n",
    "else:\n",
    "    print('mo')\n"
   ]
  },
  {
   "cell_type": "code",
   "execution_count": 92,
   "id": "4394957b",
   "metadata": {},
   "outputs": [
    {
     "name": "stdout",
     "output_type": "stream",
     "text": [
      "enterbye\n",
      "no\n"
     ]
    }
   ],
   "source": [
    " #Write a function, check_palindrome() to check whether the given string is a palindrome or not. The function should return true if it is a palindrome else it should return false.\n",
    "a=input('enter')\n",
    "if a==a[::-1]:\n",
    "    print('is palin')\n",
    "else:\n",
    "    print('no')\n",
    "    "
   ]
  },
  {
   "cell_type": "code",
   "execution_count": null,
   "id": "89cd4696",
   "metadata": {},
   "outputs": [],
   "source": []
  }
 ],
 "metadata": {
  "kernelspec": {
   "display_name": "Python 3 (ipykernel)",
   "language": "python",
   "name": "python3"
  },
  "language_info": {
   "codemirror_mode": {
    "name": "ipython",
    "version": 3
   },
   "file_extension": ".py",
   "mimetype": "text/x-python",
   "name": "python",
   "nbconvert_exporter": "python",
   "pygments_lexer": "ipython3",
   "version": "3.9.13"
  }
 },
 "nbformat": 4,
 "nbformat_minor": 5
}
