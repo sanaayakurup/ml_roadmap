{
 "cells": [
  {
   "cell_type": "code",
   "execution_count": null,
   "id": "002e3415",
   "metadata": {},
   "outputs": [],
   "source": [
    "\"\"\"https://github.com/rougier/numpy-100 numpy probs \"\"\""
   ]
  },
  {
   "cell_type": "code",
   "execution_count": 1,
   "id": "bd93ad0a",
   "metadata": {},
   "outputs": [],
   "source": [
    "import numpy as np "
   ]
  },
  {
   "cell_type": "code",
   "execution_count": 5,
   "id": "1fb1c21c",
   "metadata": {},
   "outputs": [],
   "source": [
    "def null_arr(n):\n",
    "    x=np.zeros(n)\n",
    "    return x"
   ]
  },
  {
   "cell_type": "code",
   "execution_count": 6,
   "id": "540defe2",
   "metadata": {},
   "outputs": [
    {
     "data": {
      "text/plain": [
       "array([[0., 0., 0., 0., 0., 0., 0., 0., 0., 0.],\n",
       "       [0., 0., 0., 0., 0., 0., 0., 0., 0., 0.],\n",
       "       [0., 0., 0., 0., 0., 0., 0., 0., 0., 0.],\n",
       "       [0., 0., 0., 0., 0., 0., 0., 0., 0., 0.],\n",
       "       [0., 0., 0., 0., 0., 0., 0., 0., 0., 0.],\n",
       "       [0., 0., 0., 0., 0., 0., 0., 0., 0., 0.],\n",
       "       [0., 0., 0., 0., 0., 0., 0., 0., 0., 0.],\n",
       "       [0., 0., 0., 0., 0., 0., 0., 0., 0., 0.],\n",
       "       [0., 0., 0., 0., 0., 0., 0., 0., 0., 0.],\n",
       "       [0., 0., 0., 0., 0., 0., 0., 0., 0., 0.]])"
      ]
     },
     "execution_count": 6,
     "metadata": {},
     "output_type": "execute_result"
    }
   ],
   "source": [
    "null_arr((10,10))"
   ]
  },
  {
   "cell_type": "code",
   "execution_count": 7,
   "id": "3ad46709",
   "metadata": {},
   "outputs": [
    {
     "data": {
      "text/plain": [
       "array([10, 11, 12, 13, 14, 15, 16, 17, 18, 19, 20, 21, 22, 23, 24, 25, 26,\n",
       "       27, 28, 29, 30, 31, 32, 33, 34, 35, 36, 37, 38, 39, 40, 41, 42, 43,\n",
       "       44, 45, 46, 47, 48, 49])"
      ]
     },
     "execution_count": 7,
     "metadata": {},
     "output_type": "execute_result"
    }
   ],
   "source": [
    "np.arange(10,50)"
   ]
  },
  {
   "cell_type": "code",
   "execution_count": 16,
   "id": "38a89cbe",
   "metadata": {},
   "outputs": [
    {
     "name": "stdout",
     "output_type": "stream",
     "text": [
      "[10 11 12 13 14 15 16 17 18 19]\n"
     ]
    },
    {
     "data": {
      "text/plain": [
       "array([19, 18, 17, 16, 15, 14, 13, 12, 11, 10])"
      ]
     },
     "execution_count": 16,
     "metadata": {},
     "output_type": "execute_result"
    }
   ],
   "source": [
    "#reverse a vector \n",
    "a=np.arange(10,20)\n",
    "print(a)\n",
    "a[::-1]"
   ]
  },
  {
   "cell_type": "code",
   "execution_count": 20,
   "id": "072b0153",
   "metadata": {},
   "outputs": [
    {
     "data": {
      "text/plain": [
       "array([[6, 4, 4],\n",
       "       [0, 4, 1],\n",
       "       [6, 6, 3]])"
      ]
     },
     "execution_count": 20,
     "metadata": {},
     "output_type": "execute_result"
    }
   ],
   "source": [
    "#9. Create a 3x3 matrix with values ranging from 0 to 8 (★☆☆)\n",
    "np.random.randint(0,8,(3,3))"
   ]
  },
  {
   "cell_type": "code",
   "execution_count": 24,
   "id": "c34ed1df",
   "metadata": {},
   "outputs": [
    {
     "data": {
      "text/plain": [
       "(array([0, 1, 4], dtype=int64),)"
      ]
     },
     "execution_count": 24,
     "metadata": {},
     "output_type": "execute_result"
    }
   ],
   "source": [
    "#10. Find indices of non-zero elements from [1,2,0,0,4,0] (★☆☆)\n",
    "a=np.array([1,2,0,0,4,0])\n",
    "np.where(a>0)"
   ]
  },
  {
   "cell_type": "code",
   "execution_count": 25,
   "id": "2dc2fe7c",
   "metadata": {},
   "outputs": [
    {
     "data": {
      "text/plain": [
       "array([[1., 1., 1.],\n",
       "       [1., 1., 1.],\n",
       "       [1., 1., 1.]])"
      ]
     },
     "execution_count": 25,
     "metadata": {},
     "output_type": "execute_result"
    }
   ],
   "source": [
    "#Create a 3x3 identity matrix (★☆☆)\n",
    "np.ones((3,3))"
   ]
  },
  {
   "cell_type": "code",
   "execution_count": 30,
   "id": "ce1a639c",
   "metadata": {},
   "outputs": [
    {
     "data": {
      "text/plain": [
       "array([[0.37983038, 0.19221256, 0.97783088],\n",
       "       [0.14404039, 0.82429543, 0.12472072],\n",
       "       [0.17855301, 0.13613926, 0.15283691]])"
      ]
     },
     "execution_count": 30,
     "metadata": {},
     "output_type": "execute_result"
    }
   ],
   "source": [
    "#Create a 3x3x3 array with random values (★☆☆)\n",
    "np.random.random(size=(3,3))"
   ]
  },
  {
   "cell_type": "code",
   "execution_count": 47,
   "id": "ac5c5b3a",
   "metadata": {},
   "outputs": [
    {
     "name": "stdout",
     "output_type": "stream",
     "text": [
      "[[0.06586367 0.55198364 0.47807054 0.17767607 0.44401228 0.70127328\n",
      "  0.98929127 0.69328896 0.00517707 0.13163434]\n",
      " [0.06356962 0.10967864 0.79310286 0.40933878 0.66301342 0.0781475\n",
      "  0.09672711 0.20296395 0.97056968 0.85478169]\n",
      " [0.10117512 0.95237215 0.31094286 0.26533504 0.68998623 0.93805573\n",
      "  0.1331331  0.05578664 0.60128214 0.98195502]\n",
      " [0.18298488 0.64844596 0.52497876 0.81064408 0.2204942  0.78466794\n",
      "  0.72776039 0.23546221 0.02754627 0.97993588]\n",
      " [0.907491   0.26931477 0.41333461 0.07534295 0.97274452 0.43772385\n",
      "  0.34650724 0.63078742 0.18384136 0.03077499]\n",
      " [0.30252012 0.46488281 0.97543325 0.38687267 0.5327156  0.67707995\n",
      "  0.32681357 0.05522533 0.47478402 0.37831993]\n",
      " [0.03774563 0.03770182 0.77754548 0.1048685  0.49145367 0.23684038\n",
      "  0.74977491 0.54822116 0.30045591 0.32307922]\n",
      " [0.99436099 0.02770023 0.70224374 0.54769065 0.37840827 0.57154538\n",
      "  0.23235992 0.22238372 0.38841202 0.58535461]\n",
      " [0.62431432 0.51124708 0.15073826 0.61818885 0.43076249 0.54861096\n",
      "  0.75977365 0.8883611  0.45972304 0.08516625]\n",
      " [0.54958508 0.83826518 0.74607554 0.60921801 0.46018349 0.66346305\n",
      "  0.78029209 0.5646928  0.4626255  0.53151782]]\n"
     ]
    }
   ],
   "source": [
    "#13. Create a 10x10 array with random values and find the minimum and maximum values (★☆☆)\n",
    "a=np.random.random((10,10))\n",
    "print(a)"
   ]
  },
  {
   "cell_type": "code",
   "execution_count": 64,
   "id": "c88ba98f",
   "metadata": {},
   "outputs": [
    {
     "data": {
      "text/plain": [
       "0.9943609859296589"
      ]
     },
     "execution_count": 64,
     "metadata": {},
     "output_type": "execute_result"
    }
   ],
   "source": [
    "a.min()\n",
    "a.max()"
   ]
  },
  {
   "cell_type": "code",
   "execution_count": 67,
   "id": "2ec44a29",
   "metadata": {},
   "outputs": [
    {
     "data": {
      "text/plain": [
       "0.4959163644473852"
      ]
     },
     "execution_count": 67,
     "metadata": {},
     "output_type": "execute_result"
    }
   ],
   "source": [
    "#14. Create a random vector of size 30 and find the mean value (★☆☆)\n",
    "a=np.random.random((3,30))\n",
    "a.mean()"
   ]
  },
  {
   "cell_type": "code",
   "execution_count": null,
   "id": "e13e2d1f",
   "metadata": {},
   "outputs": [],
   "source": [
    "0 * np.nan nan\n",
    "np.nan == np.nan  false \n",
    "np.inf > np.nan False \n",
    "np.nan - np.nan nan \n",
    "np.nan in set([np.nan]) true \n",
    "0.3 == 3 * 0.1 false "
   ]
  },
  {
   "cell_type": "code",
   "execution_count": 80,
   "id": "af22afd6",
   "metadata": {},
   "outputs": [
    {
     "data": {
      "text/plain": [
       "array([3, 1, 1, 1, 2, 2, 2, 2, 3, 1, 2, 1, 3, 1, 2, 3, 2, 3, 3, 1, 2, 2,\n",
       "       1, 2, 1])"
      ]
     },
     "execution_count": 80,
     "metadata": {},
     "output_type": "execute_result"
    }
   ],
   "source": [
    "#Normalize a 5x5 random matrix\n",
    "a=np.random.randint(1,4,(5,5))\n",
    "np.hstack(a)"
   ]
  },
  {
   "cell_type": "code",
   "execution_count": 82,
   "id": "80209460",
   "metadata": {},
   "outputs": [
    {
     "name": "stdout",
     "output_type": "stream",
     "text": [
      "9\n"
     ]
    }
   ],
   "source": [
    "print(sum(range(5),-1))"
   ]
  },
  {
   "cell_type": "code",
   "execution_count": 83,
   "id": "d01081cf",
   "metadata": {},
   "outputs": [
    {
     "data": {
      "text/plain": [
       "array([-2.14748365e+09])"
      ]
     },
     "execution_count": 83,
     "metadata": {},
     "output_type": "execute_result"
    }
   ],
   "source": [
    "np.array([np.nan]).astype(int).astype(float)\n"
   ]
  },
  {
   "cell_type": "code",
   "execution_count": 97,
   "id": "e8f4fbeb",
   "metadata": {},
   "outputs": [
    {
     "data": {
      "text/plain": [
       "datetime.date(2022, 12, 9)"
      ]
     },
     "execution_count": 97,
     "metadata": {},
     "output_type": "execute_result"
    }
   ],
   "source": [
    "# to get the dates of yesterday, today and tomorrow? (★☆☆)\n",
    "from datetime import date\n",
    "date.today()\n"
   ]
  }
 ],
 "metadata": {
  "kernelspec": {
   "display_name": "Python 3 (ipykernel)",
   "language": "python",
   "name": "python3"
  },
  "language_info": {
   "codemirror_mode": {
    "name": "ipython",
    "version": 3
   },
   "file_extension": ".py",
   "mimetype": "text/x-python",
   "name": "python",
   "nbconvert_exporter": "python",
   "pygments_lexer": "ipython3",
   "version": "3.9.13"
  }
 },
 "nbformat": 4,
 "nbformat_minor": 5
}
