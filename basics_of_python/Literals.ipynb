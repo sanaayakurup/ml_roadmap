{
 "cells": [
  {
   "cell_type": "code",
   "execution_count": null,
   "id": "15f466f6",
   "metadata": {},
   "outputs": [],
   "source": [
    "##literals https://www.youtube.com/watch?v=u6UpEKy_ocM&list=PLKnIA16_Rmvb1RYR-iTA_hzckhdONtSW4&index=8\n",
    "#operators https://www.youtube.com/watch?v=cPmiugHYvSI&list=PLKnIA16_Rmvb1RYR-iTA_hzckhdONtSW4&index=9"
   ]
  },
  {
   "cell_type": "code",
   "execution_count": null,
   "id": "ca0383a8",
   "metadata": {},
   "outputs": [],
   "source": [
    "##literals -raw data given to a variable \n",
    "-numeric\n",
    "-string\n",
    "-boolean\n",
    "-special\n"
   ]
  },
  {
   "cell_type": "code",
   "execution_count": 1,
   "id": "0b215d88",
   "metadata": {},
   "outputs": [
    {
     "data": {
      "text/plain": [
       "NoneType"
      ]
     },
     "execution_count": 1,
     "metadata": {},
     "output_type": "execute_result"
    }
   ],
   "source": [
    "type(None) #special literal, we use this to define to be used vars "
   ]
  },
  {
   "cell_type": "code",
   "execution_count": 5,
   "id": "e0369e86",
   "metadata": {},
   "outputs": [
    {
     "data": {
      "text/plain": [
       "1"
      ]
     },
     "execution_count": 5,
     "metadata": {},
     "output_type": "execute_result"
    }
   ],
   "source": [
    "#Operators arithmetic-sum minus mult dive mod(remainder) powerof, \n",
    "a=1 \n",
    "b=3\n",
    "a+b\n",
    "a-b\n",
    "a**2\n",
    "a%3"
   ]
  },
  {
   "cell_type": "code",
   "execution_count": null,
   "id": "54071e33",
   "metadata": {},
   "outputs": [],
   "source": [
    "#comparitive > < == !="
   ]
  },
  {
   "cell_type": "code",
   "execution_count": 6,
   "id": "b20acc50",
   "metadata": {},
   "outputs": [
    {
     "data": {
      "text/plain": [
       "True"
      ]
     },
     "execution_count": 6,
     "metadata": {},
     "output_type": "execute_result"
    }
   ],
   "source": [
    "#logical operators \n",
    "x=True\n",
    "y=False \n",
    "#and, or not\n",
    "x or y"
   ]
  },
  {
   "cell_type": "code",
   "execution_count": 7,
   "id": "0f25435b",
   "metadata": {},
   "outputs": [
    {
     "data": {
      "text/plain": [
       "False"
      ]
     },
     "execution_count": 7,
     "metadata": {},
     "output_type": "execute_result"
    }
   ],
   "source": [
    "x and y"
   ]
  },
  {
   "cell_type": "code",
   "execution_count": 8,
   "id": "e64bad3d",
   "metadata": {},
   "outputs": [
    {
     "data": {
      "text/plain": [
       "False"
      ]
     },
     "execution_count": 8,
     "metadata": {},
     "output_type": "execute_result"
    }
   ],
   "source": [
    "not x"
   ]
  },
  {
   "cell_type": "code",
   "execution_count": 11,
   "id": "2a30f4a8",
   "metadata": {},
   "outputs": [
    {
     "name": "stdout",
     "output_type": "stream",
     "text": [
      "3\n",
      "2\n"
     ]
    }
   ],
   "source": [
    "#bitwise operators -works on bits \n",
    "x=2\n",
    "y=3\n",
    "print(x and y)\n",
    "print(x or y)"
   ]
  },
  {
   "cell_type": "code",
   "execution_count": 13,
   "id": "9cf2ca80",
   "metadata": {},
   "outputs": [
    {
     "data": {
      "text/plain": [
       "False"
      ]
     },
     "execution_count": 13,
     "metadata": {},
     "output_type": "execute_result"
    }
   ],
   "source": [
    "a=[1,2]\n",
    "b=[1,2]\n",
    "a is b #false as different locations "
   ]
  },
  {
   "cell_type": "code",
   "execution_count": 15,
   "id": "91e16a53",
   "metadata": {},
   "outputs": [
    {
     "data": {
      "text/plain": [
       "True"
      ]
     },
     "execution_count": 15,
     "metadata": {},
     "output_type": "execute_result"
    }
   ],
   "source": [
    "#membership operator \n",
    "a='delhi'\n",
    "'d' in a "
   ]
  }
 ],
 "metadata": {
  "kernelspec": {
   "display_name": "Python 3 (ipykernel)",
   "language": "python",
   "name": "python3"
  },
  "language_info": {
   "codemirror_mode": {
    "name": "ipython",
    "version": 3
   },
   "file_extension": ".py",
   "mimetype": "text/x-python",
   "name": "python",
   "nbconvert_exporter": "python",
   "pygments_lexer": "ipython3",
   "version": "3.9.13"
  }
 },
 "nbformat": 4,
 "nbformat_minor": 5
}
