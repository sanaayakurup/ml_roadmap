{
 "cells": [
  {
   "cell_type": "code",
   "execution_count": 1,
   "id": "095763fb",
   "metadata": {},
   "outputs": [],
   "source": [
    "#if else \n",
    "actual_email='campusx@gmail.com'\n",
    "actual_pwd=1234"
   ]
  },
  {
   "cell_type": "code",
   "execution_count": 2,
   "id": "5935583e",
   "metadata": {},
   "outputs": [
    {
     "name": "stdout",
     "output_type": "stream",
     "text": [
      "put email xyz\n",
      "put pwd 123\n"
     ]
    }
   ],
   "source": [
    "entered_email=input('put email ')\n",
    "entered_pwd=int(input('put pwd '))\n"
   ]
  },
  {
   "cell_type": "code",
   "execution_count": 4,
   "id": "87c0ed11",
   "metadata": {},
   "outputs": [
    {
     "name": "stdout",
     "output_type": "stream",
     "text": [
      "wrong\n"
     ]
    }
   ],
   "source": [
    "if (entered_email==actual_email) and (entered_pwd==actual_email):\n",
    "    print('user has correct creds')\n",
    "else:\n",
    "    print('wrong')"
   ]
  },
  {
   "cell_type": "code",
   "execution_count": 10,
   "id": "e5bd4d39",
   "metadata": {},
   "outputs": [],
   "source": [
    "##GUESSING GAME\n",
    "#build a game that akes a user input that is a guess with a random number\n",
    "#we dont know number of attempts, hence we use a while loop \n",
    "import random"
   ]
  },
  {
   "cell_type": "code",
   "execution_count": 16,
   "id": "d595bb0d",
   "metadata": {},
   "outputs": [
    {
     "name": "stdout",
     "output_type": "stream",
     "text": [
      "guess a number1\n",
      "guess higher\n",
      "guess a number10\n",
      "guess lower\n",
      "guess a number5\n",
      "guess lower\n",
      "guess a number4\n",
      "guess lower\n",
      "guess a number3\n",
      "guess lower\n",
      "guess a number2\n",
      "correct answer\n",
      "you took 6 attempts\n"
     ]
    }
   ],
   "source": [
    "a=random.randint(1,10)\n",
    "counter=1\n",
    "user_input=int(input('guess a number'))\n",
    "while user_input!=a:\n",
    "    if user_input<a:\n",
    "        print('guess higher')\n",
    "    else:\n",
    "        print('guess lower')\n",
    "    user_input=int(input('guess a number'))\n",
    "    counter+=1\n",
    "print('correct answer')\n",
    "print(f'you took {counter} attempts')\n",
    "        "
   ]
  },
  {
   "cell_type": "code",
   "execution_count": 19,
   "id": "179472e2",
   "metadata": {},
   "outputs": [
    {
     "name": "stdout",
     "output_type": "stream",
     "text": [
      "pls put your guess1\n",
      "guess high\n",
      "pls guess again5\n",
      "guess high\n",
      "pls guess again9\n",
      "guess low\n",
      "pls guess again6\n",
      "finally, right!\n",
      "4 attempts\n"
     ]
    }
   ],
   "source": [
    "jackpot_number=random.randint(1,10) #between 1 to 10 a random int \n",
    "user_input=int(input('pls put your guess'))\n",
    "counts=1\n",
    "while user_input!=jackpot_number:\n",
    "    if user_input>jackpot_number:\n",
    "        print('guess low')\n",
    "    else:\n",
    "        print('guess high')\n",
    "    counts+=1    \n",
    "    user_input=int(input('pls guess again'))\n",
    "print('finally, right!')        \n",
    "print(f'{counts} attempts')"
   ]
  },
  {
   "cell_type": "code",
   "execution_count": null,
   "id": "e513f66a",
   "metadata": {},
   "outputs": [],
   "source": [
    "##For loops "
   ]
  },
  {
   "cell_type": "code",
   "execution_count": 20,
   "id": "7353c41e",
   "metadata": {},
   "outputs": [
    {
     "name": "stdout",
     "output_type": "stream",
     "text": [
      "1\n",
      "2\n",
      "3\n",
      "4\n",
      "5\n",
      "6\n",
      "7\n",
      "8\n",
      "9\n"
     ]
    }
   ],
   "source": [
    "for i in range(1,10):\n",
    "    print(i)"
   ]
  }
 ],
 "metadata": {
  "kernelspec": {
   "display_name": "Python 3 (ipykernel)",
   "language": "python",
   "name": "python3"
  },
  "language_info": {
   "codemirror_mode": {
    "name": "ipython",
    "version": 3
   },
   "file_extension": ".py",
   "mimetype": "text/x-python",
   "name": "python",
   "nbconvert_exporter": "python",
   "pygments_lexer": "ipython3",
   "version": "3.9.13"
  }
 },
 "nbformat": 4,
 "nbformat_minor": 5
}
