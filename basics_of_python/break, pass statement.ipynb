{
 "cells": [
  {
   "cell_type": "code",
   "execution_count": 3,
   "id": "965183e2",
   "metadata": {},
   "outputs": [
    {
     "name": "stdout",
     "output_type": "stream",
     "text": [
      "1\n",
      "2\n",
      "3\n"
     ]
    }
   ],
   "source": [
    "a=[1,2,3,5,3,4]\n",
    "for i in a:\n",
    "    if i==5:\n",
    "        break\n",
    "    else:\n",
    "        print(i)\n",
    "#where to use break?linear searching in big datasets            "
   ]
  },
  {
   "cell_type": "code",
   "execution_count": 4,
   "id": "99c20524",
   "metadata": {},
   "outputs": [
    {
     "name": "stdout",
     "output_type": "stream",
     "text": [
      "1\n",
      "2\n",
      "3\n",
      "3\n",
      "4\n"
     ]
    }
   ],
   "source": [
    "#skips the iteration \n",
    "for i in a:\n",
    "    if i==5:\n",
    "        continue\n",
    "    else:\n",
    "        print(i)\n",
    "        \n",
    "#display products in stock or not, if product out of stock then continue i.e. skip that product     "
   ]
  },
  {
   "cell_type": "code",
   "execution_count": 5,
   "id": "fd82ab64",
   "metadata": {},
   "outputs": [],
   "source": [
    "##pass statement \n",
    "for i in a:\n",
    "    pass\n",
    "\n",
    "#when you dont have logic for a certain code, we temporarily put pass \n",
    "\n"
   ]
  }
 ],
 "metadata": {
  "kernelspec": {
   "display_name": "Python 3 (ipykernel)",
   "language": "python",
   "name": "python3"
  },
  "language_info": {
   "codemirror_mode": {
    "name": "ipython",
    "version": 3
   },
   "file_extension": ".py",
   "mimetype": "text/x-python",
   "name": "python",
   "nbconvert_exporter": "python",
   "pygments_lexer": "ipython3",
   "version": "3.9.13"
  }
 },
 "nbformat": 4,
 "nbformat_minor": 5
}
