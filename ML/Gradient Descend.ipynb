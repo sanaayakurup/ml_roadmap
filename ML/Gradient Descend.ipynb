{
 "cells": [
  {
   "cell_type": "code",
   "execution_count": 1,
   "metadata": {},
   "outputs": [],
   "source": [
    "from sklearn.datasets import make_regression\n",
    "import numpy as np"
   ]
  },
  {
   "cell_type": "code",
   "execution_count": 3,
   "metadata": {},
   "outputs": [],
   "source": [
    "X,y=make_regression(n_samples=4,n_features=1,n_informative=1, n_targets=1,noise=80,random_state=13)"
   ]
  },
  {
   "cell_type": "code",
   "execution_count": 4,
   "metadata": {},
   "outputs": [],
   "source": [
    "import matplotlib.pyplot as plt"
   ]
  },
  {
   "cell_type": "code",
   "execution_count": 6,
   "metadata": {},
   "outputs": [
    {
     "data": {
      "text/plain": [
       "<matplotlib.collections.PathCollection at 0x14e6a0da898>"
      ]
     },
     "execution_count": 6,
     "metadata": {},
     "output_type": "execute_result"
    },
    {
     "data": {
      "image/png": "[encoded data removed]",
      "text/plain": [
       "<Figure size 432x288 with 1 Axes>"
      ]
     },
     "metadata": {
      "needs_background": "light"
     },
     "output_type": "display_data"
    }
   ],
   "source": [
    "plt.scatter(X,y)"
   ]
  },
  {
   "cell_type": "code",
   "execution_count": 8,
   "metadata": {},
   "outputs": [],
   "source": [
    "#apply ols \n",
    "from sklearn.linear_model import LinearRegression\n",
    "reg=LinearRegression()"
   ]
  },
  {
   "cell_type": "code",
   "execution_count": 9,
   "metadata": {},
   "outputs": [
    {
     "data": {
      "text/plain": [
       "LinearRegression(copy_X=True, fit_intercept=True, n_jobs=1, normalize=False)"
      ]
     },
     "execution_count": 9,
     "metadata": {},
     "output_type": "execute_result"
    }
   ],
   "source": [
    "reg.fit(X,y)"
   ]
  },
  {
   "cell_type": "code",
   "execution_count": 10,
   "metadata": {},
   "outputs": [
    {
     "data": {
      "text/plain": [
       "array([78.35063668])"
      ]
     },
     "execution_count": 10,
     "metadata": {},
     "output_type": "execute_result"
    }
   ],
   "source": [
    "reg.coef_ #value of m "
   ]
  },
  {
   "cell_type": "code",
   "execution_count": 11,
   "metadata": {},
   "outputs": [
    {
     "data": {
      "text/plain": [
       "26.15963284313262"
      ]
     },
     "execution_count": 11,
     "metadata": {},
     "output_type": "execute_result"
    }
   ],
   "source": [
    "reg.intercept_ #value of b "
   ]
  },
  {
   "cell_type": "code",
   "execution_count": 14,
   "metadata": {},
   "outputs": [
    {
     "data": {
      "text/plain": [
       "[<matplotlib.lines.Line2D at 0x14e6a58bcc0>]"
      ]
     },
     "execution_count": 14,
     "metadata": {},
     "output_type": "execute_result"
    },
    {
     "data": {
      "image/png": "[encoded data removed]",
      "text/plain": [
       "<Figure size 432x288 with 1 Axes>"
      ]
     },
     "metadata": {
      "needs_background": "light"
     },
     "output_type": "display_data"
    }
   ],
   "source": [
    "plt.scatter(X,y)\n",
    "plt.plot(X,reg.predict(X),color='red')"
   ]
  },
  {
   "cell_type": "code",
   "execution_count": 15,
   "metadata": {},
   "outputs": [],
   "source": [
    "#lets apply gradient descent considering the slope is constant m=78.35\n",
    "#lets assume gradient descend starts with intercept b=0 i.e. a random value  \n",
    "y_pred = ((78.35 * X) + 100).reshape(4) #gradient descnt starting equation\n"
   ]
  },
  {
   "cell_type": "code",
   "execution_count": 17,
   "metadata": {},
   "outputs": [
    {
     "data": {
      "image/png": "[encoded data removed]",
      "text/plain": [
       "<Figure size 432x288 with 1 Axes>"
      ]
     },
     "metadata": {
      "needs_background": "light"
     },
     "output_type": "display_data"
    }
   ],
   "source": [
    "plt.scatter(X,y)\n",
    "plt.plot(X,reg.predict(X),color='red',label='OLS')\n",
    "plt.plot(X,y_pred,color='blue',label='B=0') v\n",
    "plt.legend()\n",
    "plt.show()"
   ]
  },
  {
   "cell_type": "code",
   "execution_count": 20,
   "metadata": {},
   "outputs": [
    {
     "data": {
      "text/plain": [
       "-209.27706274506096"
      ]
     },
     "execution_count": 20,
     "metadata": {},
     "output_type": "execute_result"
    }
   ],
   "source": [
    "#now we need to find the value for b new, which is bnew=b old-alpha*slope. we need to find the slope at b-old. \n",
    "#formula is \n",
    "m=reg.coef_\n",
    "b=0\n",
    "loss_slope=-2*np.sum(y-m*X.ravel()-b)\n",
    "loss_slope"
   ]
  },
  {
   "cell_type": "code",
   "execution_count": 22,
   "metadata": {},
   "outputs": [],
   "source": [
    "#lets take learning rate as 0.01 and calculate step size i.e slope*learning rate \n",
    "lr=0.1\n",
    "step_size=loss_slope*lr"
   ]
  },
  {
   "cell_type": "code",
   "execution_count": 23,
   "metadata": {},
   "outputs": [
    {
     "data": {
      "text/plain": [
       "-20.927706274506097"
      ]
     },
     "execution_count": 23,
     "metadata": {},
     "output_type": "execute_result"
    }
   ],
   "source": [
    "step_size"
   ]
  },
  {
   "cell_type": "code",
   "execution_count": 25,
   "metadata": {},
   "outputs": [
    {
     "data": {
      "text/plain": [
       "20.927706274506097"
      ]
     },
     "execution_count": 25,
     "metadata": {},
     "output_type": "execute_result"
    }
   ],
   "source": [
    "#now we calc bnew, the new intercept\n",
    "bnew=b-step_size\n",
    "bnew"
   ]
  },
  {
   "cell_type": "code",
   "execution_count": 42,
   "metadata": {},
   "outputs": [],
   "source": [
    "#now we use the new intercept to make pred\n",
    "y_pred1 = ((78.35 * X) + bnew).reshape(4)\n"
   ]
  },
  {
   "cell_type": "code",
   "execution_count": 44,
   "metadata": {},
   "outputs": [
    {
     "data": {
      "image/png": "[encoded data removed]",
      "text/plain": [
       "<Figure size 432x288 with 1 Axes>"
      ]
     },
     "metadata": {
      "needs_background": "light"
     },
     "output_type": "display_data"
    }
   ],
   "source": [
    "plt.scatter(X,y)\n",
    "plt.plot(X,reg.predict(X),color='red',label='OLS')\n",
    "plt.plot(X,y_pred1,color='#00a65a',label='b = {}'.format(bnew))\n",
    "plt.plot(X,y_pred,color='#A3E4D7',label='b = 0')\n",
    "plt.legend()\n",
    "plt.show()\n",
    "     "
   ]
  },
  {
   "cell_type": "code",
   "execution_count": 36,
   "metadata": {
    "scrolled": true
   },
   "outputs": [
    {
     "name": "stdout",
     "output_type": "stream",
     "text": [
      "-41.855412549012215\n",
      "-4.185541254901222\n"
     ]
    }
   ],
   "source": [
    "#iteration 2\n",
    "loss_slope=-2*np.sum(y-m*X.ravel()-bnew)\n",
    "print(loss_slope)\n",
    "step_size=lr*loss_slope\n",
    "print(step_size)"
   ]
  },
  {
   "cell_type": "code",
   "execution_count": 53,
   "metadata": {},
   "outputs": [
    {
     "name": "stdout",
     "output_type": "stream",
     "text": [
      "24.44356092862312\n",
      "26.15963284313262\n"
     ]
    }
   ],
   "source": [
    "bnew_new=bnew-step_size\n",
    "print(bnew_new) #this value is coming close to the actual value i.e reg.intercept_\n",
    "print(reg.intercept_) #this value is the actual value\n",
    "#now we use the new intercept to make pred\n",
    "y_pred2 = ((78.35 * X) + bnew_new).reshape(4)\n"
   ]
  },
  {
   "cell_type": "code",
   "execution_count": 47,
   "metadata": {
    "scrolled": true
   },
   "outputs": [
    {
     "data": {
      "image/png": "[encoded data removed]",
      "text/plain": [
       "<Figure size 432x288 with 1 Axes>"
      ]
     },
     "metadata": {
      "needs_background": "light"
     },
     "output_type": "display_data"
    }
   ],
   "source": [
    "plt.scatter(X,y)\n",
    "plt.plot(X,reg.predict(X),color='red',label='OLS')\n",
    "plt.plot(X,y_pred1,color='#00a65a',label='b = {}'.format(bnew))\n",
    "plt.plot(X,y_pred,color='#A3E4D7',label='b = 0')\n",
    "plt.plot(X,y_pred2,color='blue',label='b = {}'.format(bnew_new))\n",
    "\n",
    "plt.legend()\n",
    "plt.show()\n",
    "#almost overlapping\n",
    "     "
   ]
  },
  {
   "cell_type": "code",
   "execution_count": 51,
   "metadata": {},
   "outputs": [
    {
     "name": "stdout",
     "output_type": "stream",
     "text": [
      "25.280669179603365\n"
     ]
    }
   ],
   "source": [
    "##iteration 3 \n",
    "#find new slope at bnewnew\n",
    "loss_slope=-2*np.sum(y-m*X.ravel()-bnew_new)\n",
    "step_size=lr*loss_slope\n",
    "bnew_new_new=bnew_new-step_size\n",
    "print(bnew_new_new) #this value is coming close to the actual value i.e reg.intercept_\n",
    "reg.intercept_ #this value is the actual value\n",
    "#now we use the new intercept to make pred\n",
    "y_pred3 = ((78.35 * X) + bnew_new_new).reshape(4)\n"
   ]
  },
  {
   "cell_type": "code",
   "execution_count": 58,
   "metadata": {},
   "outputs": [
    {
     "data": {
      "image/png": "[encoded data removed]",
      "text/plain": [
       "<Figure size 432x288 with 1 Axes>"
      ]
     },
     "metadata": {
      "needs_background": "light"
     },
     "output_type": "display_data"
    }
   ],
   "source": [
    "plt.scatter(X,y)\n",
    "plt.plot(X,reg.predict(X),color='red',label=f'OLS {reg.intercept_}')\n",
    "plt.plot(X,y_pred1,color='#00a65a',label='b = {}'.format(bnew))\n",
    "plt.plot(X,y_pred,color='#A3E4D7',label='b = 0')\n",
    "plt.plot(X,y_pred2,color='blue',label='bnew_new = {}'.format(bnew_new))\n",
    "plt.plot(X,y_pred3,color='yellow',label='bnew_new_new = {}'.format(bnew_new_new))\n",
    "\n",
    "plt.legend()\n",
    "plt.show()\n",
    "#almost overlapping\n",
    "     "
   ]
  },
  {
   "cell_type": "code",
   "execution_count": 62,
   "metadata": {},
   "outputs": [
    {
     "data": {
      "text/plain": [
       "<matplotlib.collections.PathCollection at 0x14e6ba45320>"
      ]
     },
     "execution_count": 62,
     "metadata": {},
     "output_type": "execute_result"
    },
    {
     "data": {
      "image/png": "[encoded data removed]",
      "text/plain": [
       "<Figure size 432x288 with 1 Axes>"
      ]
     },
     "metadata": {
      "needs_background": "light"
     },
     "output_type": "display_data"
    }
   ],
   "source": [
    "##making a loop for the same\n",
    "b=100\n",
    "m=reg.coef_\n",
    "epochs=10\n",
    "lr=0.1\n",
    "for i in range(0,epochs+1):\n",
    "    #we want to find the bnew. bnew=bold-learning rate*slope. we have to find the slope at b-old \n",
    "    loss_slope=-2*np.sum(y-m*X.ravel()-b) #slope of bold \n",
    "    loss_slope\n",
    "    step_size=lr*loss_slope\n",
    "    b=b-step_size #bnw=bold-lr*slope\n",
    "    y_pred = ((m * X) + b)\n",
    "    plt.plot(X,y_pred)\n",
    "plt.scatter(X,y)\n",
    "\n",
    "    \n",
    "    \n",
    "    \n",
    "    "
   ]
  },
  {
   "cell_type": "code",
   "execution_count": 74,
   "metadata": {},
   "outputs": [],
   "source": [
    "##writing a class for Gradient descend LR\n",
    "#we will first implement the logic to calculate theintercept when the coefficient is known-this is only half the GD Regressor  \n",
    "class GDRegressor():\n",
    "    def __init__(self,lr,epochs):\n",
    "        self.b=-120\n",
    "        self.m=reg.coef_\n",
    "        self.epochs=epochs\n",
    "        self.lr=lr\n",
    "    \n",
    "    def fit(self,X,y):\n",
    "        for i in range(epochs):\n",
    "            loss_slope=-2*np.sum(y-self.m*X.ravel()-self.b) #slope of bold \n",
    "            step_size=self.lr*loss_slope\n",
    "            self.b=self.b-step_size\n",
    "            y_pred=(self.m*X)+self.b\n",
    "        print(self.b)\n",
    "\n",
    "        "
   ]
  },
  {
   "cell_type": "code",
   "execution_count": 75,
   "metadata": {},
   "outputs": [
    {
     "name": "stdout",
     "output_type": "stream",
     "text": [
      "26.159617876386218\n"
     ]
    }
   ],
   "source": [
    "gd=GDRegressor(0.1,10)\n",
    "gd.fit(X,y)"
   ]
  },
  {
   "cell_type": "code",
   "execution_count": 76,
   "metadata": {},
   "outputs": [
    {
     "data": {
      "text/plain": [
       "26.15963284313262"
      ]
     },
     "execution_count": 76,
     "metadata": {},
     "output_type": "execute_result"
    }
   ],
   "source": [
    "reg.intercept_ #same intercept "
   ]
  },
  {
   "cell_type": "code",
   "execution_count": 124,
   "metadata": {},
   "outputs": [
    {
     "data": {
      "text/plain": [
       "<matplotlib.collections.PathCollection at 0x14e6bea59e8>"
      ]
     },
     "execution_count": 124,
     "metadata": {},
     "output_type": "execute_result"
    },
    {
     "data": {
      "image/png": "[encoded data removed]",
      "text/plain": [
       "<Figure size 432x288 with 1 Axes>"
      ]
     },
     "metadata": {
      "needs_background": "light"
     },
     "output_type": "display_data"
    }
   ],
   "source": [
    "##now we code fr finding both m and b\n",
    "from sklearn.model_selection import cross_val_score\n",
    "X,y = make_regression(n_samples=100, n_features=1, n_informative=1, n_targets=1,noise=20,random_state=13)\n",
    "plt.scatter(X,y)\n"
   ]
  },
  {
   "cell_type": "code",
   "execution_count": 125,
   "metadata": {},
   "outputs": [
    {
     "name": "stdout",
     "output_type": "stream",
     "text": [
      "[27.82809103]\n",
      "-2.29474455867698\n"
     ]
    }
   ],
   "source": [
    "reg=LinearRegression()\n",
    "reg.fit(X,y)\n",
    "print(reg.coef_)\n",
    "print(reg.intercept_)"
   ]
  },
  {
   "cell_type": "code",
   "execution_count": 126,
   "metadata": {},
   "outputs": [
    {
     "data": {
      "text/plain": [
       "0.6375011587464419"
      ]
     },
     "execution_count": 126,
     "metadata": {},
     "output_type": "execute_result"
    }
   ],
   "source": [
    "np.mean(cross_val_score(reg,X,y,scoring='r2',cv=10)) #our rs"
   ]
  },
  {
   "cell_type": "code",
   "execution_count": 127,
   "metadata": {},
   "outputs": [],
   "source": [
    "#from scratch for m and b \n",
    "class GDRegressor:\n",
    "    \n",
    "    def __init__(self,learning_rate,epochs):\n",
    "        self.m = 100\n",
    "        self.b = -120\n",
    "        self.lr = learning_rate\n",
    "        self.epochs = epochs\n",
    "        \n",
    "    def fit(self,X,y):\n",
    "        # calcualte the b using GD\n",
    "        for i in range(self.epochs):\n",
    "            loss_slope_b = -2 * np.sum(y - self.m*X.ravel() - self.b)\n",
    "            loss_slope_m = -2 * np.sum((y - self.m*X.ravel() - self.b)*X.ravel())\n",
    "            \n",
    "            self.b = self.b - (self.lr * loss_slope_b)\n",
    "            self.m = self.m - (self.lr * loss_slope_m)\n",
    "        print(self.m,self.b)\n",
    "        \n",
    "    def predict(self,X):\n",
    "        return self.m * X + self.b"
   ]
  },
  {
   "cell_type": "code",
   "execution_count": 131,
   "metadata": {
    "collapsed": true
   },
   "outputs": [
    {
     "name": "stdout",
     "output_type": "stream",
     "text": [
      "27.828091872608653 -2.2947448944994893\n"
     ]
    },
    {
     "data": {
      "text/plain": [
       "array([[-22.11921769],\n",
       "       [-14.45967436],\n",
       "       [-14.92180785],\n",
       "       [ 24.22071289],\n",
       "       [  4.32438488],\n",
       "       [ 21.67112435],\n",
       "       [ -9.06605019],\n",
       "       [  2.851948  ],\n",
       "       [-22.35879005],\n",
       "       [-14.25796038],\n",
       "       [ 53.78500537],\n",
       "       [  8.75972323],\n",
       "       [  3.48793408],\n",
       "       [ -8.76271341],\n",
       "       [-23.68416824],\n",
       "       [ 10.31579463],\n",
       "       [ 15.5120051 ],\n",
       "       [  7.71035286],\n",
       "       [-47.24011768],\n",
       "       [ 46.38331635],\n",
       "       [-24.25080397],\n",
       "       [-16.54175657],\n",
       "       [-28.12854285],\n",
       "       [ 57.54630988],\n",
       "       [ -8.06489135],\n",
       "       [-47.90758693],\n",
       "       [-11.71784478],\n",
       "       [-11.25883162],\n",
       "       [-15.69039288],\n",
       "       [-16.85340673],\n",
       "       [ 17.79616505],\n",
       "       [ 19.01909815],\n",
       "       [ 10.32476716],\n",
       "       [-37.40283105],\n",
       "       [-63.15798965],\n",
       "       [-35.28268842],\n",
       "       [  3.75651986],\n",
       "       [ 34.72543668],\n",
       "       [-32.54893408],\n",
       "       [ 13.35192552],\n",
       "       [-44.39433775],\n",
       "       [ -2.36122692],\n",
       "       [-10.03469777],\n",
       "       [ 10.27833038],\n",
       "       [ 30.84031082],\n",
       "       [ 23.3723328 ],\n",
       "       [ 20.38502317],\n",
       "       [-19.5754251 ],\n",
       "       [ 23.13291539],\n",
       "       [ 29.38289173],\n",
       "       [ 38.85425766],\n",
       "       [-20.41240441],\n",
       "       [-12.75588011],\n",
       "       [-23.85205547],\n",
       "       [ 11.65094979],\n",
       "       [ 35.27840802],\n",
       "       [ 17.99653881],\n",
       "       [ -4.5669519 ],\n",
       "       [-26.06391348],\n",
       "       [ 10.66362793],\n",
       "       [ -3.53318065],\n",
       "       [ -3.89576147],\n",
       "       [ 50.37665946],\n",
       "       [-31.38559572],\n",
       "       [ 13.41850651],\n",
       "       [-55.84043082],\n",
       "       [-23.5563524 ],\n",
       "       [  1.24786248],\n",
       "       [ -3.03974883],\n",
       "       [ -6.3356992 ],\n",
       "       [ 13.36820716],\n",
       "       [  6.53652574],\n",
       "       [ 17.49032702],\n",
       "       [ 18.68113514],\n",
       "       [-12.59436912],\n",
       "       [ 35.13686903],\n",
       "       [ 12.51920277],\n",
       "       [-29.68206155],\n",
       "       [ 35.28169442],\n",
       "       [-11.94015042],\n",
       "       [ 12.01804574],\n",
       "       [  0.5234    ],\n",
       "       [-20.59219583],\n",
       "       [ 20.82777409],\n",
       "       [-11.12365148],\n",
       "       [-29.57390869],\n",
       "       [ 36.64339041],\n",
       "       [ 12.95277616],\n",
       "       [-17.05274472],\n",
       "       [ 11.36528156],\n",
       "       [  7.41031867],\n",
       "       [ 54.85561916],\n",
       "       [ 14.57711155],\n",
       "       [-12.99346867],\n",
       "       [-56.43125551],\n",
       "       [-11.05664436],\n",
       "       [ 49.17644353],\n",
       "       [-33.47631306],\n",
       "       [-11.55247693],\n",
       "       [-23.37322285]])"
      ]
     },
     "execution_count": 131,
     "metadata": {},
     "output_type": "execute_result"
    }
   ],
   "source": [
    "gd = GDRegressor(0.001,100)\n",
    "gd.fit(X,y)\n",
    "gd.predict(X)"
   ]
  },
  {
   "cell_type": "code",
   "execution_count": null,
   "metadata": {},
   "outputs": [],
   "source": []
  }
 ],
 "metadata": {
  "kernelspec": {
   "display_name": "Python 3",
   "language": "python",
   "name": "python3"
  },
  "language_info": {
   "codemirror_mode": {
    "name": "ipython",
    "version": 3
   },
   "file_extension": ".py",
   "mimetype": "text/x-python",
   "name": "python",
   "nbconvert_exporter": "python",
   "pygments_lexer": "ipython3",
   "version": "3.7.0"
  }
 },
 "nbformat": 4,
 "nbformat_minor": 2
}
